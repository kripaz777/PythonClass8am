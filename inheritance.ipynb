{
 "cells": [
  {
   "cell_type": "code",
   "execution_count": 2,
   "metadata": {},
   "outputs": [
    {
     "name": "stdout",
     "output_type": "stream",
     "text": [
      "This is class A\n",
      "This is class B\n"
     ]
    }
   ],
   "source": [
    "class A:\n",
    "    print(\"This is class A\")\n",
    "class B(A):\n",
    "    print(\"This is class B\")\n",
    "    \n",
    "# a = A()\n",
    "b = B()"
   ]
  },
  {
   "cell_type": "code",
   "execution_count": 9,
   "metadata": {},
   "outputs": [
    {
     "name": "stdout",
     "output_type": "stream",
     "text": [
      "Enter l = 10\n",
      "Enter b = 2\n",
      "600\n"
     ]
    }
   ],
   "source": [
    "class Cal:\n",
    "    def __init__(self):\n",
    "        self.l = int(input(\"Enter l = \"))\n",
    "        self.b = int(input(\"Enter b = \"))\n",
    "    def area(self):\n",
    "        a = self.l*self.b\n",
    "        print(a)\n",
    "        \n",
    "class Volume(Cal):\n",
    "    def volume(self):\n",
    "        h = 30\n",
    "        v = self.l*self.b*h\n",
    "        print(v)\n",
    "    \n",
    "x = Volume()\n",
    "x.area()\n",
    "x.volume()"
   ]
  },
  {
   "cell_type": "code",
   "execution_count": 1,
   "metadata": {},
   "outputs": [
    {
     "name": "stdout",
     "output_type": "stream",
     "text": [
      "This is method c\n",
      "This is method b\n",
      "This is method a\n"
     ]
    }
   ],
   "source": [
    "class A:\n",
    "    def a(self):\n",
    "        print(\"This is method a\")\n",
    "class B(A):\n",
    "    def b(self):\n",
    "        print(\"This is method b\")\n",
    "class C(B):\n",
    "    def c(self):\n",
    "        print(\"This is method c\")\n",
    "        \n",
    "obj = C()\n",
    "obj.c()\n",
    "obj.b()\n",
    "obj.a()"
   ]
  },
  {
   "cell_type": "code",
   "execution_count": 3,
   "metadata": {},
   "outputs": [
    {
     "name": "stdout",
     "output_type": "stream",
     "text": [
      "Enter name = Ram\n",
      "Enter age = 34\n",
      "Enter add = Kathmandu\n",
      "Hello Ram this is Hr section.\n",
      "Hello Ram your age is 34 and address is Kathmandu\n"
     ]
    }
   ],
   "source": [
    "class Data:\n",
    "    def __init__(self):\n",
    "        self.name = input(\"Enter name = \")\n",
    "        self.age = int(input(\"Enter age = \"))\n",
    "        self.add = input(\"Enter add = \")\n",
    "class Hr(Data):\n",
    "    def hr(self):\n",
    "        print(f\"Hello {self.name} this is Hr section.\")\n",
    "class Office(Hr):\n",
    "    def office(self):\n",
    "        print(f\"Hello {self.name} your age is {self.age} and address is {self.add}\")\n",
    "              \n",
    "obj = Office()\n",
    "obj.hr()\n",
    "obj.office()"
   ]
  },
  {
   "cell_type": "code",
   "execution_count": 8,
   "metadata": {},
   "outputs": [
    {
     "name": "stdout",
     "output_type": "stream",
     "text": [
      "Enter salary10000\n",
      "Enter name = Ram\n",
      "Enter age = 45\n",
      "Enter add = Kathmandu\n",
      "Hello Ram this is Hr section.\n"
     ]
    }
   ],
   "source": [
    "class Data:\n",
    "    def __init__(self):\n",
    "        self.name = input(\"Enter name = \")\n",
    "        self.age = int(input(\"Enter age = \"))\n",
    "        self.add = input(\"Enter add = \")\n",
    "        \n",
    "class Hr(Data):\n",
    "    def __init__(self):\n",
    "        self.salary = int(input(\"Enter salary\"))\n",
    "        Data.__init__(self)\n",
    "\n",
    "    def hr(self):\n",
    "        print(f\"Hello {self.name} this is Hr section.\")\n",
    "class Office(Hr):\n",
    "    def office(self):\n",
    "        print(f\"Hello {self.name} your age is {self.age} and address is {self.add} your salary is {self.salary}\")\n",
    "              \n",
    "obj = Hr()\n",
    "obj.hr()\n",
    "obj.office()"
   ]
  },
  {
   "cell_type": "code",
   "execution_count": 4,
   "metadata": {},
   "outputs": [
    {
     "name": "stdout",
     "output_type": "stream",
     "text": [
      "Enter name = Ram\n",
      "Enter age = 34\n",
      "Enter add = Kathmandu\n",
      "Enter salary20000\n",
      "Hello Ram your age is 34 and address is Kathmandu your salary is 20000\n"
     ]
    }
   ],
   "source": [
    "class Data:\n",
    "    def __init__(self):\n",
    "        self.name = input(\"Enter name = \")\n",
    "        self.age = int(input(\"Enter age = \"))\n",
    "        self.add = input(\"Enter add = \")\n",
    "        \n",
    "class Hr:\n",
    "    def __init__(self):\n",
    "        self.salary = int(input(\"Enter salary\"))\n",
    "    def hr(self):\n",
    "        print(f\"Hello {self.name} this is Hr section.\")\n",
    "        \n",
    "class Office(Data,Hr):\n",
    "    def __init__(self):\n",
    "        Data.__init__(self)\n",
    "        Hr.__init__(self)\n",
    "    def office(self):\n",
    "        print(f\"Hello {self.name} your age is {self.age} and address is {self.add} your salary is {self.salary}\")\n",
    "              \n",
    "obj = Office()\n",
    "obj.office()"
   ]
  },
  {
   "cell_type": "code",
   "execution_count": null,
   "metadata": {},
   "outputs": [],
   "source": [
    "class Person: \n",
    "    #defining constructor \n",
    "    def __init__(self, personName, personAge):\n",
    "        self.name = personName  \n",
    "        self.age = personAge  \n",
    "        #defining class methods   \n",
    "class Student: # Person is the  \n",
    "    def __init__(self, studentId):  \n",
    "        self.studentId = studentId   \n",
    "class Resident(Person, Student):\n",
    "    # extends both Person and Student class  \n",
    "    def __init__(self, name, age, id):  \n",
    "        Person.__init__(self, name, age)  \n",
    "        Student.__init__(self, id)  \n",
    "        # Create an object of the subclass\n",
    "    def info(self):\n",
    "        print(f\"Hello {self.name} your age is {self.age} and id {self.id}\")\n",
    "resident1 = Resident('Ram', 25, '2')  \n"
   ]
  },
  {
   "cell_type": "code",
   "execution_count": 9,
   "metadata": {},
   "outputs": [
    {
     "name": "stdout",
     "output_type": "stream",
     "text": [
      "Hello Ram your age is 25 and id 1\n"
     ]
    }
   ],
   "source": [
    "# super()\n",
    "class Person: \n",
    "    #defining constructor \n",
    "    def __init__(self, personName, personAge):\n",
    "        self.name = personName  \n",
    "        self.age = personAge  \n",
    "        #defining class methods   \n",
    "class Student: # Person is the  \n",
    "    def ids(self):\n",
    "        id = int(input(\"Enter id = \"))\n",
    "        return id\n",
    "class Resident(Person, Student):\n",
    "    # extends both Person and Student class  \n",
    "    def __init__(self, name, age):  \n",
    "        Person.__init__(self, name, age)   \n",
    "        # Create an object of the subclass\n",
    "    def info(self):\n",
    "        print(f\"Hello {self.name} your age is {self.age} \n",
    "              and id {super().ids()}\")\n",
    "resident1 = Resident('Ram', 25)  \n",
    "resident1.info()"
   ]
  },
  {
   "cell_type": "code",
   "execution_count": 2,
   "metadata": {},
   "outputs": [
    {
     "name": "stdout",
     "output_type": "stream",
     "text": [
      "Ram\n",
      "45\n",
      "Kathmandu\n"
     ]
    }
   ],
   "source": [
    "# public attributes\n",
    "class Info:\n",
    "    def __init__(self,name,age,add):\n",
    "        self.name =name\n",
    "        self.age = age\n",
    "        self.add =add\n",
    "        \n",
    "obj = Info(\"Ram\",45,\"Kathmandu\")\n",
    "print(obj.name)\n",
    "print(obj.age)\n",
    "print(obj.add)"
   ]
  },
  {
   "cell_type": "code",
   "execution_count": 4,
   "metadata": {},
   "outputs": [
    {
     "name": "stdout",
     "output_type": "stream",
     "text": [
      "Ram\n",
      "45\n",
      "Kathmandu\n"
     ]
    }
   ],
   "source": [
    "# protected attributes\n",
    "class Info:\n",
    "    def __init__(self,name,age,add):\n",
    "        self._name =name\n",
    "        self._age = age\n",
    "        self._add =add\n",
    "        \n",
    "obj = Info(\"Ram\",45,\"Kathmandu\")\n",
    "print(obj._name)\n",
    "print(obj._age)\n",
    "print(obj._add)"
   ]
  },
  {
   "cell_type": "code",
   "execution_count": 5,
   "metadata": {},
   "outputs": [
    {
     "ename": "AttributeError",
     "evalue": "'Info' object has no attribute '__name'",
     "output_type": "error",
     "traceback": [
      "\u001b[1;31m---------------------------------------------------------------------------\u001b[0m",
      "\u001b[1;31mAttributeError\u001b[0m                            Traceback (most recent call last)",
      "\u001b[1;32m<ipython-input-5-66ae7d0fbd77>\u001b[0m in \u001b[0;36m<module>\u001b[1;34m\u001b[0m\n\u001b[0;32m      7\u001b[0m \u001b[1;33m\u001b[0m\u001b[0m\n\u001b[0;32m      8\u001b[0m \u001b[0mobj\u001b[0m \u001b[1;33m=\u001b[0m \u001b[0mInfo\u001b[0m\u001b[1;33m(\u001b[0m\u001b[1;34m\"Ram\"\u001b[0m\u001b[1;33m,\u001b[0m\u001b[1;36m45\u001b[0m\u001b[1;33m,\u001b[0m\u001b[1;34m\"Kathmandu\"\u001b[0m\u001b[1;33m)\u001b[0m\u001b[1;33m\u001b[0m\u001b[1;33m\u001b[0m\u001b[0m\n\u001b[1;32m----> 9\u001b[1;33m \u001b[0mprint\u001b[0m\u001b[1;33m(\u001b[0m\u001b[0mobj\u001b[0m\u001b[1;33m.\u001b[0m\u001b[0m__name\u001b[0m\u001b[1;33m)\u001b[0m\u001b[1;33m\u001b[0m\u001b[1;33m\u001b[0m\u001b[0m\n\u001b[0m\u001b[0;32m     10\u001b[0m \u001b[0mprint\u001b[0m\u001b[1;33m(\u001b[0m\u001b[0mobj\u001b[0m\u001b[1;33m.\u001b[0m\u001b[0m__age\u001b[0m\u001b[1;33m)\u001b[0m\u001b[1;33m\u001b[0m\u001b[1;33m\u001b[0m\u001b[0m\n\u001b[0;32m     11\u001b[0m \u001b[0mprint\u001b[0m\u001b[1;33m(\u001b[0m\u001b[0mobj\u001b[0m\u001b[1;33m.\u001b[0m\u001b[0m__add\u001b[0m\u001b[1;33m)\u001b[0m\u001b[1;33m\u001b[0m\u001b[1;33m\u001b[0m\u001b[0m\n",
      "\u001b[1;31mAttributeError\u001b[0m: 'Info' object has no attribute '__name'"
     ]
    }
   ],
   "source": [
    "# private attributes\n",
    "class Info:\n",
    "    def __init__(self,name,age,add):\n",
    "        self.__name =name\n",
    "        self.__age = age\n",
    "        self.__add =add\n",
    "        \n",
    "obj = Info(\"Ram\",45,\"Kathmandu\")\n",
    "print(obj.__name)\n",
    "print(obj.__age)\n",
    "print(obj.__add)"
   ]
  },
  {
   "cell_type": "code",
   "execution_count": 6,
   "metadata": {},
   "outputs": [
    {
     "name": "stdout",
     "output_type": "stream",
     "text": [
      "Ram\n",
      "45\n",
      "Kathmandu\n"
     ]
    }
   ],
   "source": [
    "# private attributes\n",
    "class Info:\n",
    "    def __init__(self,name,age,add):\n",
    "        self.__name =name\n",
    "        self.__age = age\n",
    "        self.__add =add\n",
    "        \n",
    "obj = Info(\"Ram\",45,\"Kathmandu\")\n",
    "print(obj._Info__name)\n",
    "print(obj._Info__age)\n",
    "print(obj._Info__add)"
   ]
  },
  {
   "cell_type": "code",
   "execution_count": 8,
   "metadata": {},
   "outputs": [
    {
     "name": "stdout",
     "output_type": "stream",
     "text": [
      "Enter name = Ram\n",
      "Enter age = 45\n",
      "Enter add = Kathmandu\n",
      "Enter salary100000\n",
      "Hello Ram your age is 45 and address is Kathmandu your salary is 100000\n"
     ]
    }
   ],
   "source": [
    "class Data:\n",
    "    def __init__(self):\n",
    "        self.name = input(\"Enter name = \")\n",
    "        self._age = int(input(\"Enter age = \"))\n",
    "        self.__add = input(\"Enter add = \")\n",
    "        \n",
    "class Hr:\n",
    "    def __init__(self):\n",
    "        self.salary = int(input(\"Enter salary\"))\n",
    "    def hr(self):\n",
    "        print(f\"Hello {self.name} this is Hr section.\")\n",
    "        \n",
    "class Office(Data,Hr):\n",
    "    def __init__(self):\n",
    "        Data.__init__(self)\n",
    "        Hr.__init__(self)\n",
    "    def office(self):\n",
    "        print(f\"Hello {self.name} your age is {self._age} and address is {self._Data__add} your salary is {self.salary}\")\n",
    "              \n",
    "obj = Office()\n",
    "obj.office()"
   ]
  },
  {
   "cell_type": "code",
   "execution_count": 9,
   "metadata": {},
   "outputs": [
    {
     "name": "stdout",
     "output_type": "stream",
     "text": [
      "Enter name = Ram\n",
      "Enter age = 56\n",
      "Enter add = Kathmandu\n",
      "Enter salary10000\n",
      "Hello Ram your age is 56 and address is Kathmandu your salary is 10000\n"
     ]
    }
   ],
   "source": [
    "class Data:\n",
    "    def __init__(self):\n",
    "        self.name = input(\"Enter name = \")\n",
    "        self._age = int(input(\"Enter age = \"))\n",
    "        self.__add = input(\"Enter add = \")\n",
    "    def add(self):\n",
    "        return self.__add\n",
    "        \n",
    "class Hr:\n",
    "    def __init__(self):\n",
    "        self.salary = int(input(\"Enter salary\"))\n",
    "    def hr(self):\n",
    "        print(f\"Hello {self.name} this is Hr section.\")\n",
    "        \n",
    "class Office(Data,Hr):\n",
    "    def __init__(self):\n",
    "        Data.__init__(self)\n",
    "        Hr.__init__(self)\n",
    "    def office(self):\n",
    "        print(f\"Hello {self.name} your age is {self._age} \n",
    "              and address is {super().add()} your salary is {self.salary}\")\n",
    "              \n",
    "obj = Office()\n",
    "obj.office()"
   ]
  },
  {
   "cell_type": "code",
   "execution_count": 10,
   "metadata": {},
   "outputs": [
    {
     "data": {
      "text/plain": [
       "['hellow', 'world']"
      ]
     },
     "execution_count": 10,
     "metadata": {},
     "output_type": "execute_result"
    }
   ],
   "source": [
    "def strings(function):\n",
    "    def wrapper():\n",
    "        fun = function()\n",
    "        x = fun.lower()\n",
    "        return x\n",
    "    return wrapper\n",
    "\n",
    "def split_string(function):\n",
    "    def wrappe():\n",
    "        func = function()\n",
    "        splitted_string = func.split()\n",
    "        return splitted_string\n",
    "\n",
    "    return wrappe\n",
    "@split_string\n",
    "@strings\n",
    "def info():\n",
    "    return 'Hellow World'\n",
    "info()"
   ]
  },
  {
   "cell_type": "code",
   "execution_count": null,
   "metadata": {},
   "outputs": [],
   "source": []
  }
 ],
 "metadata": {
  "kernelspec": {
   "display_name": "Python 3",
   "language": "python",
   "name": "python3"
  },
  "language_info": {
   "codemirror_mode": {
    "name": "ipython",
    "version": 3
   },
   "file_extension": ".py",
   "mimetype": "text/x-python",
   "name": "python",
   "nbconvert_exporter": "python",
   "pygments_lexer": "ipython3",
   "version": "3.7.1"
  }
 },
 "nbformat": 4,
 "nbformat_minor": 2
}
