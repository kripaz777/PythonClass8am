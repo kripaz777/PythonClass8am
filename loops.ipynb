{
 "cells": [
  {
   "cell_type": "code",
   "execution_count": 1,
   "metadata": {},
   "outputs": [],
   "source": [
    "# for\n",
    "# while"
   ]
  },
  {
   "cell_type": "code",
   "execution_count": 2,
   "metadata": {},
   "outputs": [],
   "source": [
    "# for(i = 0; i<5; i++){\n",
    "    \n",
    "# }"
   ]
  },
  {
   "cell_type": "code",
   "execution_count": 3,
   "metadata": {},
   "outputs": [],
   "source": [
    "# range()\n",
    "# range(5)\n",
    "# range(1,5)\n",
    "# range(1,10,2)"
   ]
  },
  {
   "cell_type": "code",
   "execution_count": 5,
   "metadata": {},
   "outputs": [
    {
     "name": "stdout",
     "output_type": "stream",
     "text": [
      "range(0, 5)\n"
     ]
    }
   ],
   "source": [
    "print(range(5))"
   ]
  },
  {
   "cell_type": "code",
   "execution_count": 2,
   "metadata": {},
   "outputs": [
    {
     "name": "stdout",
     "output_type": "stream",
     "text": [
      "0 hello World\n",
      "1 hello World\n",
      "2 hello World\n",
      "3 hello World\n",
      "4 hello World\n"
     ]
    }
   ],
   "source": [
    "# for(i=0; i<5; i++){}\n",
    "for i in range(5):\n",
    "    print(i,\"hello World\")"
   ]
  },
  {
   "cell_type": "code",
   "execution_count": 3,
   "metadata": {},
   "outputs": [
    {
     "name": "stdout",
     "output_type": "stream",
     "text": [
      "1 hello World\n",
      "2 hello World\n",
      "3 hello World\n",
      "4 hello World\n"
     ]
    }
   ],
   "source": [
    "# for(i=1; i<5; i++){}\n",
    "for i in range(1,5):\n",
    "    print(i,\"hello World\")"
   ]
  },
  {
   "cell_type": "code",
   "execution_count": 12,
   "metadata": {},
   "outputs": [
    {
     "name": "stdout",
     "output_type": "stream",
     "text": [
      "1 hello World\n",
      "3 hello World\n"
     ]
    }
   ],
   "source": [
    "# for(i=1; i<5; i = i+2){}\n",
    "for i in range(1,5,2):\n",
    "    print(i,\"hello World\")"
   ]
  },
  {
   "cell_type": "code",
   "execution_count": 11,
   "metadata": {},
   "outputs": [
    {
     "name": "stdout",
     "output_type": "stream",
     "text": [
      "Hello World\n",
      "Hello World\n",
      "Hello World\n",
      "Hello World\n",
      "\n"
     ]
    }
   ],
   "source": [
    "a = \"Hello World\\n\"\n",
    "print(a*4)"
   ]
  },
  {
   "cell_type": "code",
   "execution_count": 13,
   "metadata": {},
   "outputs": [
    {
     "name": "stdout",
     "output_type": "stream",
     "text": [
      "5 hello World\n",
      "4 hello World\n",
      "3 hello World\n",
      "2 hello World\n",
      "1 hello World\n"
     ]
    }
   ],
   "source": [
    "# for(i=1; i<5; i = i+2){}\n",
    "for i in range(5,0,-1):\n",
    "    print(i,\"hello World\")"
   ]
  },
  {
   "cell_type": "code",
   "execution_count": 16,
   "metadata": {},
   "outputs": [
    {
     "name": "stdout",
     "output_type": "stream",
     "text": [
      "Enter n = 3\n",
      "Enter x = 10\n",
      "The sum is =  10\n",
      "Enter x = 20\n",
      "The sum is =  30\n",
      "Enter x = 30\n",
      "The sum is =  60\n"
     ]
    }
   ],
   "source": [
    "s = 0\n",
    "n = int(input(\"Enter n = \"))\n",
    "for i in range(n):\n",
    "    x = int(input(\"Enter x = \"))\n",
    "    s = s+x\n",
    "    print(\"The sum is = \",s)"
   ]
  },
  {
   "cell_type": "code",
   "execution_count": 4,
   "metadata": {},
   "outputs": [
    {
     "name": "stdout",
     "output_type": "stream",
     "text": [
      "Enter n = 2\n",
      "2.0 * 1 = 2.0\n",
      "2.0 * 2 = 4.0\n",
      "2.0 * 3 = 6.0\n",
      "2.0 * 4 = 8.0\n",
      "2.0 * 5 = 10.0\n",
      "2.0 * 6 = 12.0\n",
      "2.0 * 7 = 14.0\n",
      "2.0 * 8 = 16.0\n",
      "2.0 * 9 = 18.0\n",
      "2.0 * 10 = 20.0\n"
     ]
    }
   ],
   "source": [
    "n = float(input(\"Enter n = \"))\n",
    "for i in range(1,11):\n",
    "    print(n,\"*\",i,\"=\",n*i)"
   ]
  },
  {
   "cell_type": "code",
   "execution_count": 6,
   "metadata": {},
   "outputs": [
    {
     "name": "stdout",
     "output_type": "stream",
     "text": [
      "P y t h o n "
     ]
    }
   ],
   "source": [
    "a = \"Python\"\n",
    "for i in a:\n",
    "    print(i,end = \" \")"
   ]
  },
  {
   "cell_type": "code",
   "execution_count": 8,
   "metadata": {},
   "outputs": [
    {
     "name": "stdout",
     "output_type": "stream",
     "text": [
      "P Hello World\n",
      "y Hello World\n",
      "t Hello World\n",
      "h Hello World\n",
      "o Hello World\n",
      "n Hello World\n"
     ]
    }
   ],
   "source": [
    "a = \"Python\"\n",
    "for i in a:\n",
    "    print(i,\"Hello World\")"
   ]
  },
  {
   "cell_type": "code",
   "execution_count": 9,
   "metadata": {},
   "outputs": [
    {
     "name": "stdout",
     "output_type": "stream",
     "text": [
      "Apple\n",
      "Ball\n",
      "Cat\n",
      "Dog\n"
     ]
    }
   ],
   "source": [
    "a = [\"Apple\",\"Ball\",\"Cat\",\"Dog\"]\n",
    "for i in a:\n",
    "    print(i)"
   ]
  },
  {
   "cell_type": "code",
   "execution_count": 13,
   "metadata": {},
   "outputs": [
    {
     "name": "stdout",
     "output_type": "stream",
     "text": [
      "P y t h o n "
     ]
    }
   ],
   "source": [
    "a = \"Python\"\n",
    "n = len(a)\n",
    "for i in range(n):\n",
    "    print(a[i],end = \" \")"
   ]
  },
  {
   "cell_type": "code",
   "execution_count": 15,
   "metadata": {},
   "outputs": [
    {
     "name": "stdout",
     "output_type": "stream",
     "text": [
      "Apple\n",
      "Ball\n",
      "There is cat.\n",
      "Cat\n",
      "Dog\n"
     ]
    }
   ],
   "source": [
    "a = [\"Apple\",\"Ball\",\"Cat\",\"Dog\"]\n",
    "for i in a:\n",
    "    if i == \"Cat\":\n",
    "        print(\"There is cat.\")\n",
    "    print(i)"
   ]
  },
  {
   "cell_type": "code",
   "execution_count": null,
   "metadata": {},
   "outputs": [],
   "source": [
    "# break\n",
    "# continue\n",
    "# pass"
   ]
  },
  {
   "cell_type": "code",
   "execution_count": 22,
   "metadata": {},
   "outputs": [
    {
     "name": "stdout",
     "output_type": "stream",
     "text": [
      "Hello"
     ]
    }
   ],
   "source": [
    "a = \"Hello World\"\n",
    "for i in a:\n",
    "    if i == \" \":\n",
    "        break\n",
    "    else:\n",
    "        print(i,end =\"\")"
   ]
  },
  {
   "cell_type": "code",
   "execution_count": 26,
   "metadata": {},
   "outputs": [
    {
     "name": "stdout",
     "output_type": "stream",
     "text": [
      "HelloWorld"
     ]
    }
   ],
   "source": [
    "a = \"Hello World\"\n",
    "for i in a:\n",
    "    if i == \" \":\n",
    "        continue\n",
    "    \n",
    "    print(i,end =\"\")"
   ]
  },
  {
   "cell_type": "code",
   "execution_count": 34,
   "metadata": {},
   "outputs": [],
   "source": [
    "a = [\"Apple\",\"Ball\",\"Cat\",\"Dog\",\"Cat\",\"Cat\",\"Dog\"]\n",
    "for i in a:\n",
    "    if (i != \"Dog\") or (i != \"Cat\"):\n",
    "        continue\n",
    "    print(i)"
   ]
  },
  {
   "cell_type": "code",
   "execution_count": 36,
   "metadata": {},
   "outputs": [
    {
     "name": "stdout",
     "output_type": "stream",
     "text": [
      "5\n",
      "10\n",
      "15\n",
      "20\n",
      "25\n",
      "30\n",
      "35\n",
      "40\n",
      "45\n",
      "50\n"
     ]
    }
   ],
   "source": [
    "# n = int(input(\"Enter n = \"))\n",
    "for i in range(1,51):\n",
    "    if i%5 != 0:\n",
    "        continue\n",
    "    print(i)"
   ]
  },
  {
   "cell_type": "code",
   "execution_count": 37,
   "metadata": {},
   "outputs": [],
   "source": [
    "# prime and composite \n",
    "# prime = 2,3,5,7,11,13,17\n",
    "# composite no = 4,6,8,9,10,\n",
    "# factorial  4! = 1*2*3*4\n",
    "# 1,1,2,3,5,8,"
   ]
  },
  {
   "cell_type": "code",
   "execution_count": 44,
   "metadata": {},
   "outputs": [
    {
     "name": "stdout",
     "output_type": "stream",
     "text": [
      "Enter n = 4\n",
      "24\n"
     ]
    }
   ],
   "source": [
    "# 4! = 1*2*3*4\n",
    "fac = 1\n",
    "n = int(input(\"Enter n = \"))\n",
    "for i in range(1,n+1):\n",
    "    fac = fac * i\n",
    "    \n",
    "print(fac)"
   ]
  },
  {
   "cell_type": "code",
   "execution_count": null,
   "metadata": {},
   "outputs": [],
   "source": [
    "# While loop"
   ]
  },
  {
   "cell_type": "code",
   "execution_count": 1,
   "metadata": {},
   "outputs": [],
   "source": [
    "# while <condition>:\n",
    "#     <operations>\n",
    "    "
   ]
  },
  {
   "cell_type": "code",
   "execution_count": 3,
   "metadata": {},
   "outputs": [
    {
     "name": "stdout",
     "output_type": "stream",
     "text": [
      "0 Hello World\n",
      "1 Hello World\n",
      "2 Hello World\n",
      "3 Hello World\n",
      "4 Hello World\n"
     ]
    }
   ],
   "source": [
    "a = 0\n",
    "while a<5:\n",
    "    print(a,\"Hello World\")\n",
    "    a = a+1"
   ]
  },
  {
   "cell_type": "code",
   "execution_count": 4,
   "metadata": {},
   "outputs": [
    {
     "name": "stdout",
     "output_type": "stream",
     "text": [
      "1 Hello World\n",
      "2 Hello World\n",
      "3 Hello World\n",
      "4 Hello World\n"
     ]
    }
   ],
   "source": [
    "a = 1\n",
    "while a<5:\n",
    "    print(a,\"Hello World\")\n",
    "    a = a+1"
   ]
  },
  {
   "cell_type": "code",
   "execution_count": 5,
   "metadata": {},
   "outputs": [
    {
     "name": "stdout",
     "output_type": "stream",
     "text": [
      "1 Hello World\n",
      "3 Hello World\n"
     ]
    }
   ],
   "source": [
    "a = 1\n",
    "while a<5:\n",
    "    print(a,\"Hello World\")\n",
    "    a = a+2"
   ]
  },
  {
   "cell_type": "code",
   "execution_count": 1,
   "metadata": {},
   "outputs": [
    {
     "name": "stdout",
     "output_type": "stream",
     "text": [
      "Enter n = 5\n",
      "Enter x = 123\n",
      "Enter x = 35\n",
      "Enter x = 456\n",
      "Enter x = 23\n",
      "Enter x = 564\n",
      "1201\n"
     ]
    }
   ],
   "source": [
    "a = 1\n",
    "s = 0\n",
    "n = int(input(\"Enter n = \"))\n",
    "while a <= n:\n",
    "    x = int(input(\"Enter x = \"))\n",
    "    s = s+x\n",
    "    a =a +1\n",
    "print(s)"
   ]
  },
  {
   "cell_type": "code",
   "execution_count": 3,
   "metadata": {},
   "outputs": [
    {
     "name": "stdout",
     "output_type": "stream",
     "text": [
      "Enter n = 2\n",
      "2 * 1 = 2\n",
      "2 * 2 = 4\n",
      "2 * 3 = 6\n",
      "2 * 4 = 8\n",
      "2 * 5 = 10\n",
      "2 * 6 = 12\n",
      "2 * 7 = 14\n",
      "2 * 8 = 16\n",
      "2 * 9 = 18\n",
      "2 * 10 = 20\n"
     ]
    }
   ],
   "source": [
    "a = 1\n",
    "n = int(input(\"Enter n = \"))\n",
    "while a<=10:\n",
    "    print(n,\"*\",a,\"=\",n*a)\n",
    "    a+=1\n",
    "#     a = a+1"
   ]
  },
  {
   "cell_type": "code",
   "execution_count": 5,
   "metadata": {},
   "outputs": [
    {
     "name": "stdout",
     "output_type": "stream",
     "text": [
      "Enter no of people2\n",
      "Enter name = Ram\n",
      "Enter name = Shyam\n",
      " Ram Shyam\n"
     ]
    }
   ],
   "source": [
    "a = 1\n",
    "s = \"\"\n",
    "n = int(input(\"Enter no of people\"))\n",
    "while a<=n:\n",
    "    name = input(\"Enter name = \")\n",
    "    s = s+\" \" +name\n",
    "    a = a+1\n",
    "print(s)"
   ]
  },
  {
   "cell_type": "code",
   "execution_count": 8,
   "metadata": {},
   "outputs": [
    {
     "name": "stdout",
     "output_type": "stream",
     "text": [
      "Enter no of people = 2\n",
      "Enter name = Ram\n",
      "Enter name = Shyam\n",
      "Ram\n",
      "Shyam\n",
      "\n"
     ]
    }
   ],
   "source": [
    "s = \"\"\n",
    "n = int(input(\"Enter no of people = \"))\n",
    "for i in range(n):\n",
    "    name = input(\"Enter name = \")\n",
    "    s = s+name + \"\\n\"\n",
    "print(s)"
   ]
  },
  {
   "cell_type": "code",
   "execution_count": 10,
   "metadata": {},
   "outputs": [
    {
     "name": "stdout",
     "output_type": "stream",
     "text": [
      "Enter no of people = 2\n",
      "Enter name = Ram\n",
      "Enter phone = 9845445432\n",
      "Enter name = Shyam\n",
      "Enter phone = 9845443432\n",
      "Ram 9845445432\n",
      "Shyam 9845443432\n",
      "\n"
     ]
    }
   ],
   "source": [
    "s = \"\"\n",
    "n = int(input(\"Enter no of people = \"))\n",
    "for i in range(n):\n",
    "    name = input(\"Enter name = \")\n",
    "    phone = int(input(\"Enter phone = \"))\n",
    "    s = s+name +\" \"+str(phone) + \"\\n\"\n",
    "print(s)"
   ]
  },
  {
   "cell_type": "code",
   "execution_count": 11,
   "metadata": {},
   "outputs": [
    {
     "name": "stdout",
     "output_type": "stream",
     "text": [
      "Enter n = 2\n",
      "This is +ve no.\n"
     ]
    }
   ],
   "source": [
    "# while loop as if else\n",
    "a = 0\n",
    "n = int(input(\"Enter n = \"))\n",
    "while a<n:\n",
    "    print(\"This is +ve no.\")\n",
    "    break"
   ]
  },
  {
   "cell_type": "code",
   "execution_count": 1,
   "metadata": {},
   "outputs": [
    {
     "name": "stdout",
     "output_type": "stream",
     "text": [
      "P\n",
      "y\n",
      "t\n",
      "h\n",
      "o\n",
      "n\n"
     ]
    }
   ],
   "source": [
    "s = \"Python\"\n",
    "a = 0\n",
    "n = len(s)\n",
    "while a<n:\n",
    "    print(s[a])\n",
    "    a = a+1"
   ]
  },
  {
   "cell_type": "code",
   "execution_count": 3,
   "metadata": {},
   "outputs": [
    {
     "name": "stdout",
     "output_type": "stream",
     "text": [
      "H e l l o "
     ]
    }
   ],
   "source": [
    "s = \"Hello World\"\n",
    "a = 0\n",
    "n = len(s)\n",
    "while a<n:\n",
    "    if s[a] == \" \":\n",
    "        break\n",
    "    print(s[a],end = \" \")\n",
    "    a = a+1"
   ]
  },
  {
   "cell_type": "code",
   "execution_count": 6,
   "metadata": {},
   "outputs": [
    {
     "name": "stdout",
     "output_type": "stream",
     "text": [
      "HelloWorld"
     ]
    }
   ],
   "source": [
    "s = \"Hello World\"\n",
    "a = 0\n",
    "n = len(s)\n",
    "while a<n:\n",
    "    if s[a] == \" \":\n",
    "        a = a+1\n",
    "        continue\n",
    "    print(s[a],end = \"\")\n",
    "    a = a+1"
   ]
  },
  {
   "cell_type": "code",
   "execution_count": null,
   "metadata": {},
   "outputs": [],
   "source": []
  }
 ],
 "metadata": {
  "kernelspec": {
   "display_name": "Python 3",
   "language": "python",
   "name": "python3"
  },
  "language_info": {
   "codemirror_mode": {
    "name": "ipython",
    "version": 3
   },
   "file_extension": ".py",
   "mimetype": "text/x-python",
   "name": "python",
   "nbconvert_exporter": "python",
   "pygments_lexer": "ipython3",
   "version": "3.7.1"
  }
 },
 "nbformat": 4,
 "nbformat_minor": 2
}
