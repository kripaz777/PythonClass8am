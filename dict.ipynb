{
 "cells": [
  {
   "cell_type": "code",
   "execution_count": 1,
   "metadata": {},
   "outputs": [],
   "source": [
    "# dict\n",
    "# indexed\n",
    "# ordered\n",
    "# duplicate values\n",
    "# mutable"
   ]
  },
  {
   "cell_type": "code",
   "execution_count": 2,
   "metadata": {},
   "outputs": [
    {
     "data": {
      "text/plain": [
       "dict"
      ]
     },
     "execution_count": 2,
     "metadata": {},
     "output_type": "execute_result"
    }
   ],
   "source": [
    "a = {}\n",
    "type(a)"
   ]
  },
  {
   "cell_type": "code",
   "execution_count": 7,
   "metadata": {},
   "outputs": [
    {
     "name": "stdout",
     "output_type": "stream",
     "text": [
      "{'a': 'apple', 'b': 'ball'}\n",
      "apple\n",
      "Apple\n"
     ]
    }
   ],
   "source": [
    "# a = {<key>:<value>,<key>:<value>}\n",
    "dict_a = {\"a\":\"apple\",\"b\":\"ball\"}\n",
    "dict_b = {1:\"Apple\",2:\"Ball\"}\n",
    "print(dict_a)\n",
    "print(dict_a[\"a\"])\n",
    "print(dict_b[1])"
   ]
  },
  {
   "cell_type": "code",
   "execution_count": 6,
   "metadata": {},
   "outputs": [
    {
     "data": {
      "text/plain": [
       "{'a': 'apple', 'b': 'ball', 'A': 'apple'}"
      ]
     },
     "execution_count": 6,
     "metadata": {},
     "output_type": "execute_result"
    }
   ],
   "source": [
    "dict_a = {\"a\":\"apple\",\"b\":\"ball\",\"A\":\"apple\"}\n",
    "dict_a"
   ]
  },
  {
   "cell_type": "code",
   "execution_count": 8,
   "metadata": {},
   "outputs": [
    {
     "data": {
      "text/plain": [
       "{'a': 'Apple', 'b': 'ball'}"
      ]
     },
     "execution_count": 8,
     "metadata": {},
     "output_type": "execute_result"
    }
   ],
   "source": [
    "dict_a = {\"a\":\"apple\",\"b\":\"ball\",\"a\":\"Apple\"}\n",
    "dict_a"
   ]
  },
  {
   "cell_type": "code",
   "execution_count": 9,
   "metadata": {},
   "outputs": [
    {
     "data": {
      "text/plain": [
       "{1: 'Apple'}"
      ]
     },
     "execution_count": 9,
     "metadata": {},
     "output_type": "execute_result"
    }
   ],
   "source": [
    "a = {}\n",
    "a[1] = \"Apple\"\n",
    "a"
   ]
  },
  {
   "cell_type": "code",
   "execution_count": 10,
   "metadata": {},
   "outputs": [
    {
     "data": {
      "text/plain": [
       "{1: 'Ant'}"
      ]
     },
     "execution_count": 10,
     "metadata": {},
     "output_type": "execute_result"
    }
   ],
   "source": [
    "a = {1: 'Apple'}\n",
    "a[1] = \"Ant\"\n",
    "a"
   ]
  },
  {
   "cell_type": "code",
   "execution_count": 11,
   "metadata": {},
   "outputs": [
    {
     "name": "stdout",
     "output_type": "stream",
     "text": [
      "{'Ram': 9843667632, 'Shyam': 9856334309, 'Hari': 9856554543}\n"
     ]
    }
   ],
   "source": [
    "a = {}\n",
    "a[\"Ram\"] = 9843667632\n",
    "a[\"Shyam\"] = 9856334309\n",
    "a[\"Hari\"] = 9856554543\n",
    "print(a)"
   ]
  },
  {
   "cell_type": "code",
   "execution_count": 12,
   "metadata": {},
   "outputs": [
    {
     "name": "stdout",
     "output_type": "stream",
     "text": [
      "Enter n = 2\n",
      "Enter name = Ram\n",
      "Enter phone = 8776887\n",
      "Enter name = Shyam\n",
      "Enter phone = 978979897\n",
      "{'Ram': '8776887', 'Shyam': '978979897'}\n"
     ]
    }
   ],
   "source": [
    "d = {}\n",
    "n = int(input(\"Enter n = \"))\n",
    "for i in range(n):\n",
    "    name = input(\"Enter name = \")\n",
    "    phone = input(\"Enter phone = \")\n",
    "    d[name] = phone   #d[\"Hari\"] = 9856554543\n",
    "print(d)"
   ]
  },
  {
   "cell_type": "code",
   "execution_count": 13,
   "metadata": {},
   "outputs": [
    {
     "data": {
      "text/plain": [
       "{'Ram': 8776887, 'Shyam': 978979897}"
      ]
     },
     "execution_count": 13,
     "metadata": {},
     "output_type": "execute_result"
    }
   ],
   "source": [
    "d = {}\n",
    "d[\"Ram\"] = 8776887\n",
    "d[\"Shyam\"] = 978979897\n",
    "d"
   ]
  },
  {
   "cell_type": "code",
   "execution_count": 14,
   "metadata": {},
   "outputs": [
    {
     "name": "stdout",
     "output_type": "stream",
     "text": [
      "Ram\n",
      "Shyam\n"
     ]
    }
   ],
   "source": [
    "for i in d:  #key\n",
    "    print(i)"
   ]
  },
  {
   "cell_type": "code",
   "execution_count": 15,
   "metadata": {},
   "outputs": [
    {
     "name": "stdout",
     "output_type": "stream",
     "text": [
      "8776887\n",
      "978979897\n"
     ]
    }
   ],
   "source": [
    "for i in d.values():  #value\n",
    "    print(i)"
   ]
  },
  {
   "cell_type": "code",
   "execution_count": 16,
   "metadata": {},
   "outputs": [
    {
     "name": "stdout",
     "output_type": "stream",
     "text": [
      "('Ram', 8776887)\n",
      "('Shyam', 978979897)\n"
     ]
    }
   ],
   "source": [
    "for i in d.items():  #value\n",
    "    print(i)"
   ]
  },
  {
   "cell_type": "code",
   "execution_count": 19,
   "metadata": {},
   "outputs": [
    {
     "name": "stdout",
     "output_type": "stream",
     "text": [
      "[('Ram', 8776887), ('Shyam', 978979897)]\n"
     ]
    }
   ],
   "source": [
    "z = []\n",
    "for i in d.items():\n",
    "    z.append(i)\n",
    "print(z)"
   ]
  },
  {
   "cell_type": "code",
   "execution_count": 23,
   "metadata": {},
   "outputs": [
    {
     "data": {
      "text/plain": [
       "{'Ram': 8776887, 'Shyam': 978979897}"
      ]
     },
     "execution_count": 23,
     "metadata": {},
     "output_type": "execute_result"
    }
   ],
   "source": [
    "z = [('Ram', 8776887), ('Shyam', 978979897)]\n",
    "d = {}\n",
    "for i in z:\n",
    "    key = i[0]\n",
    "    value = i[1]\n",
    "    d[key] = value\n",
    "    \n",
    "d"
   ]
  },
  {
   "cell_type": "code",
   "execution_count": 24,
   "metadata": {},
   "outputs": [
    {
     "data": {
      "text/plain": [
       "{'a': 'apple'}"
      ]
     },
     "execution_count": 24,
     "metadata": {},
     "output_type": "execute_result"
    }
   ],
   "source": [
    "d = {\"a\":\"apple\"}\n",
    "d"
   ]
  },
  {
   "cell_type": "code",
   "execution_count": 25,
   "metadata": {},
   "outputs": [
    {
     "ename": "TypeError",
     "evalue": "unhashable type: 'list'",
     "output_type": "error",
     "traceback": [
      "\u001b[1;31m---------------------------------------------------------------------------\u001b[0m",
      "\u001b[1;31mTypeError\u001b[0m                                 Traceback (most recent call last)",
      "\u001b[1;32m<ipython-input-25-f4eea3f076bd>\u001b[0m in \u001b[0;36m<module>\u001b[1;34m\u001b[0m\n\u001b[1;32m----> 1\u001b[1;33m \u001b[0md\u001b[0m \u001b[1;33m=\u001b[0m \u001b[1;33m{\u001b[0m\u001b[1;33m[\u001b[0m\u001b[0ma\u001b[0m\u001b[1;33m]\u001b[0m\u001b[1;33m:\u001b[0m\u001b[1;34m\"apple\"\u001b[0m\u001b[1;33m}\u001b[0m\u001b[1;33m\u001b[0m\u001b[1;33m\u001b[0m\u001b[0m\n\u001b[0m",
      "\u001b[1;31mTypeError\u001b[0m: unhashable type: 'list'"
     ]
    }
   ],
   "source": [
    "d = {[a]:\"apple\"}"
   ]
  },
  {
   "cell_type": "code",
   "execution_count": 30,
   "metadata": {},
   "outputs": [
    {
     "data": {
      "text/plain": [
       "{('a', 'A'): 'apple'}"
      ]
     },
     "execution_count": 30,
     "metadata": {},
     "output_type": "execute_result"
    }
   ],
   "source": [
    "d = {(\"a\",\"A\"):\"apple\"}\n",
    "d"
   ]
  },
  {
   "cell_type": "code",
   "execution_count": 33,
   "metadata": {},
   "outputs": [
    {
     "name": "stdout",
     "output_type": "stream",
     "text": [
      "{'Ram': [9856554543, 9808445654], 'Shyam': [9856554549, 980232289]}\n",
      "[9856554543, 9808445654]\n"
     ]
    }
   ],
   "source": [
    "# list inside dictionary\n",
    "d = {\"Ram\":[9856554543,9808445654],\n",
    "    \"Shyam\":[9856554549,980232289]}\n",
    "\n",
    "print(d)\n",
    "print(d[\"Ram\"])"
   ]
  },
  {
   "cell_type": "code",
   "execution_count": 38,
   "metadata": {},
   "outputs": [
    {
     "data": {
      "text/plain": [
       "9856554543"
      ]
     },
     "execution_count": 38,
     "metadata": {},
     "output_type": "execute_result"
    }
   ],
   "source": [
    "d[\"Ram\"][0]"
   ]
  },
  {
   "cell_type": "code",
   "execution_count": 34,
   "metadata": {},
   "outputs": [
    {
     "name": "stdout",
     "output_type": "stream",
     "text": [
      "Enter name = Ram\n",
      "Enter 0 for ntc 1 for ncell0\n",
      "9856554543\n"
     ]
    }
   ],
   "source": [
    "name = input(\"Enter name = \")\n",
    "phone = int(input(\"Enter 0 for ntc 1 for ncell\"))\n",
    "print(d[name][phone])"
   ]
  },
  {
   "cell_type": "code",
   "execution_count": 41,
   "metadata": {},
   "outputs": [
    {
     "data": {
      "text/plain": [
       "{'Ram': [9841895564, 9808445654], 'Shyam': [9856554549, 980232289]}"
      ]
     },
     "execution_count": 41,
     "metadata": {},
     "output_type": "execute_result"
    }
   ],
   "source": [
    "d[\"Ram\"][0] = 9841895564\n",
    "d"
   ]
  },
  {
   "cell_type": "code",
   "execution_count": 42,
   "metadata": {},
   "outputs": [
    {
     "data": {
      "text/plain": [
       "{'Ram': [9808445654], 'Shyam': [9856554549, 980232289]}"
      ]
     },
     "execution_count": 42,
     "metadata": {},
     "output_type": "execute_result"
    }
   ],
   "source": [
    "del d[\"Ram\"][0]\n",
    "d"
   ]
  },
  {
   "cell_type": "code",
   "execution_count": 49,
   "metadata": {},
   "outputs": [
    {
     "name": "stdout",
     "output_type": "stream",
     "text": [
      "{'Ram': [9841667654, 9808445654], 'Shyam': [9856554549, 980232289]}\n"
     ]
    }
   ],
   "source": [
    "d = {'Ram': [9808445654], \n",
    "     'Shyam': [9856554549, 980232289]}\n",
    "d[\"Ram\"].insert(0,9841667654)\n",
    "print(d)"
   ]
  },
  {
   "cell_type": "code",
   "execution_count": 8,
   "metadata": {},
   "outputs": [
    {
     "name": "stdout",
     "output_type": "stream",
     "text": [
      "Enter phone = 234234\n",
      "('Ram', [9841667654, 9808445654])\n",
      "('Shyam', [9856554549, 980232289])\n"
     ]
    }
   ],
   "source": [
    "# Search\n",
    "# del\n",
    "a = {'Ram': [9841667654, 9808445654], \n",
    "     'Shyam': [9856554549, 980232289]}\n",
    "n = int(input(\"Enter phone = \"))\n",
    "for i in a.items():\n",
    "    if n in i[1]:\n",
    "        print(i)"
   ]
  },
  {
   "cell_type": "code",
   "execution_count": 11,
   "metadata": {},
   "outputs": [
    {
     "name": "stdout",
     "output_type": "stream",
     "text": [
      "('Ram', [9841667654, 9808445654])\n",
      "('Shyam', [9856554549, 980232289])\n"
     ]
    }
   ],
   "source": [
    "a = {'Ram': [9841667654, 9808445654], \n",
    "     'Shyam': [9856554549, 980232289]}\n",
    "for i in a.items():\n",
    "    print(i)"
   ]
  },
  {
   "cell_type": "code",
   "execution_count": 17,
   "metadata": {},
   "outputs": [
    {
     "name": "stdout",
     "output_type": "stream",
     "text": [
      "Enter phone = 9808445654\n",
      "{'Shyam': [9856554549, 980232289]}\n"
     ]
    }
   ],
   "source": [
    "a = {'Ram': [9841667654, 9808445654], \n",
    "     'Shyam': [9856554549, 980232289]}\n",
    "n = int(input(\"Enter phone = \"))\n",
    "for i in a.items():\n",
    "    if n in i[1]:\n",
    "        key = i[0]\n",
    "        del a[key]\n",
    "        break\n",
    "print(a)"
   ]
  },
  {
   "cell_type": "code",
   "execution_count": 18,
   "metadata": {},
   "outputs": [],
   "source": [
    "# dict inside dict\n",
    "# d = {<key>:{<key>:<value>,<key>:<value>},\n",
    "#     <key>:{<key>:<value>,<key>:<value>}}\n"
   ]
  },
  {
   "cell_type": "code",
   "execution_count": 19,
   "metadata": {},
   "outputs": [
    {
     "name": "stdout",
     "output_type": "stream",
     "text": [
      "<class 'dict'>\n",
      "{'Ram': {'Physics': 67, 'Chemistry': 89, 'Math': 45}, 'Shyam': {'Physics': 78, 'Chemistry': 69, 'Math': 98}}\n"
     ]
    }
   ],
   "source": [
    "d = {\"Ram\":{\"Physics\":67,\"Chemistry\":89,\"Math\":45},\n",
    "    \"Shyam\":{\"Physics\":78,\"Chemistry\":69,\"Math\":98}}\n",
    "print(type(d))\n",
    "print(d)"
   ]
  },
  {
   "cell_type": "code",
   "execution_count": 20,
   "metadata": {},
   "outputs": [
    {
     "name": "stdout",
     "output_type": "stream",
     "text": [
      "('Ram', {'Physics': 67, 'Chemistry': 89, 'Math': 45})\n",
      "('Shyam', {'Physics': 78, 'Chemistry': 69, 'Math': 98})\n"
     ]
    }
   ],
   "source": [
    "for i in d.items():\n",
    "    print(i)"
   ]
  },
  {
   "cell_type": "code",
   "execution_count": 23,
   "metadata": {},
   "outputs": [
    {
     "name": "stdout",
     "output_type": "stream",
     "text": [
      "67\n"
     ]
    }
   ],
   "source": [
    "print(d[\"Ram\"][\"Physics\"])"
   ]
  },
  {
   "cell_type": "code",
   "execution_count": 24,
   "metadata": {},
   "outputs": [
    {
     "data": {
      "text/plain": [
       "{'Ram': {'Physics': 76, 'Chemistry': 89, 'Math': 45},\n",
       " 'Shyam': {'Physics': 78, 'Chemistry': 69, 'Math': 98}}"
      ]
     },
     "execution_count": 24,
     "metadata": {},
     "output_type": "execute_result"
    }
   ],
   "source": [
    "d[\"Ram\"][\"Physics\"] = 76\n",
    "d"
   ]
  },
  {
   "cell_type": "code",
   "execution_count": 25,
   "metadata": {},
   "outputs": [
    {
     "name": "stdout",
     "output_type": "stream",
     "text": [
      "Enter n = 2\n",
      "Enter name = Ram\n",
      "Enter Physics = 45\n",
      "Enter chemistry = 89\n",
      "Enter math = 67\n",
      "Enter name = Shyam\n",
      "Enter Physics = 67\n",
      "Enter chemistry = 90\n",
      "Enter math = 56\n",
      "{'Ram': {'Physics': 45, 'Chemistry': 89, 'Math': 67}, 'Shyam': {'Physics': 67, 'Chemistry': 90, 'Math': 56}}\n"
     ]
    }
   ],
   "source": [
    "data = {}\n",
    "n = int(input(\"Enter n = \"))\n",
    "for i in range(n):\n",
    "    name = input(\"Enter name = \")\n",
    "    physics = int(input(\"Enter Physics = \"))\n",
    "    chemistry = int(input(\"Enter chemistry = \"))\n",
    "    math = int(input(\"Enter math = \"))\n",
    "    data[name] = {\"Physics\":physics,\n",
    "                  \"Chemistry\":chemistry,\"Math\":math}\n",
    "print(data)"
   ]
  },
  {
   "cell_type": "code",
   "execution_count": 27,
   "metadata": {},
   "outputs": [
    {
     "data": {
      "text/plain": [
       "45"
      ]
     },
     "execution_count": 27,
     "metadata": {},
     "output_type": "execute_result"
    }
   ],
   "source": [
    "data['Ram']['Physics']"
   ]
  },
  {
   "cell_type": "code",
   "execution_count": 30,
   "metadata": {},
   "outputs": [
    {
     "data": {
      "text/plain": [
       "{'Name': 'Hari', 'Phone': 9808556532}"
      ]
     },
     "execution_count": 30,
     "metadata": {},
     "output_type": "execute_result"
    }
   ],
   "source": [
    "# d = [{<key>:<value>},{<key>:<value>},{<key>:<value>}]\n",
    "d = [{\"Name\":\"Ram\",\"Phone\":9808556530},\n",
    "    {\"Name\":\"Shyam\",\"Phone\":9808556531},\n",
    "     {\"Name\":\"Hari\",\"Phone\":9808556532}]\n",
    "d[2]"
   ]
  },
  {
   "cell_type": "code",
   "execution_count": 31,
   "metadata": {},
   "outputs": [
    {
     "name": "stdout",
     "output_type": "stream",
     "text": [
      "{'Name': 'Ram', 'Phone': 9808556530}\n",
      "{'Name': 'Shyam', 'Phone': 9808556531}\n",
      "{'Name': 'Hari', 'Phone': 9808556532}\n"
     ]
    }
   ],
   "source": [
    "for i in d:\n",
    "    print(i)"
   ]
  },
  {
   "cell_type": "code",
   "execution_count": 35,
   "metadata": {},
   "outputs": [
    {
     "data": {
      "text/plain": [
       "[{'Name': 'Ram', 'Phone': 9808556530},\n",
       " {'Name': 'Shyam', 'Phone': 9808556531},\n",
       " {'Name': 'Hari', 'Phone': 9808556532},\n",
       " {'Name': 'Nabin', 'Phone': 9808556538}]"
      ]
     },
     "execution_count": 35,
     "metadata": {},
     "output_type": "execute_result"
    }
   ],
   "source": [
    "x = {\"Name\":\"Nabin\",\"Phone\":9808556538}\n",
    "d.append(x)\n",
    "d"
   ]
  },
  {
   "cell_type": "code",
   "execution_count": null,
   "metadata": {},
   "outputs": [],
   "source": []
  }
 ],
 "metadata": {
  "kernelspec": {
   "display_name": "Python 3",
   "language": "python",
   "name": "python3"
  },
  "language_info": {
   "codemirror_mode": {
    "name": "ipython",
    "version": 3
   },
   "file_extension": ".py",
   "mimetype": "text/x-python",
   "name": "python",
   "nbconvert_exporter": "python",
   "pygments_lexer": "ipython3",
   "version": "3.7.1"
  }
 },
 "nbformat": 4,
 "nbformat_minor": 2
}
